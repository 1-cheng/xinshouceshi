{
 "cells": [
  {
   "cell_type": "code",
   "execution_count": 9,
   "id": "c979c142",
   "metadata": {},
   "outputs": [
    {
     "name": "stdout",
     "output_type": "stream",
     "text": [
      "moving from A to C\n",
      "moving from A to B\n",
      "moving from C to B\n",
      "moving from A to C\n",
      "moving from B to A\n",
      "moving from B to C\n",
      "moving from A to C\n"
     ]
    }
   ],
   "source": [
    "def hanoi(n,a,b,c):\n",
    "    if n>0:\n",
    "        hanoi(n-1,a,c,b)\n",
    "        print(\"moving from %s to %s\"%(a,c))\n",
    "        hanoi(n-1,b,a,c)\n",
    "hanoi(3,'A','B','C')"
   ]
  },
  {
   "cell_type": "code",
   "execution_count": 3,
   "id": "eda86af6",
   "metadata": {},
   "outputs": [],
   "source": [
    "li=[1,2,3,4,5]\n",
    "val=3"
   ]
  },
  {
   "cell_type": "code",
   "execution_count": 4,
   "id": "5d36aae7",
   "metadata": {},
   "outputs": [
    {
     "data": {
      "text/plain": [
       "2"
      ]
     },
     "execution_count": 4,
     "metadata": {},
     "output_type": "execute_result"
    }
   ],
   "source": [
    "def linear_search(li,val):#顺序查找\n",
    "    for ind,v in enumerate(li):\n",
    "        if v == val:\n",
    "            return ind\n",
    "    else:\n",
    "            return -1\n",
    "linear_search(li,val)"
   ]
  },
  {
   "cell_type": "code",
   "execution_count": 6,
   "id": "6e0c4482",
   "metadata": {},
   "outputs": [
    {
     "data": {
      "text/plain": [
       "2"
      ]
     },
     "execution_count": 6,
     "metadata": {},
     "output_type": "execute_result"
    }
   ],
   "source": [
    "def binary_search(li,val):#二分查找\n",
    "    left=0\n",
    "    right=len(li)-1\n",
    "    while left<right:\n",
    "        mid = (left+right)//2\n",
    "        if li[mid]==val:\n",
    "            return mid\n",
    "        elif li[mid] >val:\n",
    "            right=mid-1\n",
    "        else:\n",
    "            left=mid+1\n",
    "    else:\n",
    "        return -1\n",
    "binary_search(li,val)"
   ]
  },
  {
   "cell_type": "code",
   "execution_count": 21,
   "id": "597673df",
   "metadata": {},
   "outputs": [
    {
     "name": "stdout",
     "output_type": "stream",
     "text": [
      "[1, 2, 2, 3, 4, 5]\n"
     ]
    }
   ],
   "source": [
    "def bubble_sort(li):#冒泡排序\n",
    "    for i in range(len(li)-1):#第i趟\n",
    "        exchange=False\n",
    "        for j in range(len(li)-i-1):\n",
    "            if li[j]>li[j+1]: \n",
    "                li[j],li[j+1]=li[j+1],li[j]\n",
    "                exchange=True\n",
    "        if not exchange:\n",
    "            return\n",
    "li=[1,3,4,5,2,2]\n",
    "bubble_sort(li)\n",
    "print(li)"
   ]
  },
  {
   "cell_type": "code",
   "execution_count": 9,
   "id": "e4398f6a",
   "metadata": {},
   "outputs": [
    {
     "name": "stdout",
     "output_type": "stream",
     "text": [
      "[]\n",
      "[1, 2, 2, 3, 4, 5]\n"
     ]
    }
   ],
   "source": [
    "#简单选择排序\n",
    "def select_sort_simple(li):\n",
    "    li_new=[]\n",
    "    for i in range(len(li)):\n",
    "        min_val= min(li)\n",
    "        li_new.append(min_val)\n",
    "        li.remove(min_val)\n",
    "    return li_new\n",
    "li=[1,3,4,5,2,2]\n",
    "li_new = select_sort_simple(li)\n",
    "print(li)\n",
    "print(li_new)"
   ]
  },
  {
   "cell_type": "code",
   "execution_count": 14,
   "id": "7943f66d",
   "metadata": {},
   "outputs": [
    {
     "name": "stdout",
     "output_type": "stream",
     "text": [
      "[1, 2, 2, 3, 4, 5]\n"
     ]
    }
   ],
   "source": [
    "def select_sort(li):\n",
    "    for i in range(len(li)-1):\n",
    "        min_loc=i\n",
    "        for j in range(i+1,len(li)):\n",
    "            if li[j]<li[min_loc]:\n",
    "                min_loc=j\n",
    "        li[i],li[min_loc] = li[min_loc],li[i]\n",
    "li=[1,3,4,5,2,2]\n",
    "select_sort(li)\n",
    "print(li)            "
   ]
  },
  {
   "cell_type": "code",
   "execution_count": 30,
   "id": "9d5c15b1",
   "metadata": {},
   "outputs": [
    {
     "name": "stdout",
     "output_type": "stream",
     "text": [
      "[1, 2, 2, 3, 4, 5]\n"
     ]
    }
   ],
   "source": [
    "#插入排序\n",
    "def insert_sort(li):\n",
    "    for i in range(1,len(li)):\n",
    "        tem = li[i]#摸到的牌\n",
    "        j = i-1#手里的牌\n",
    "        while li[j]>tem and j>0:\n",
    "            li[j+1] = li[j]\n",
    "            j -=1\n",
    "        li[j+1]=tem\n",
    "li=[1,3,4,5,2,2]\n",
    "insert_sort(li)\n",
    "print(li)    "
   ]
  },
  {
   "cell_type": "code",
   "execution_count": 32,
   "id": "d9be4441",
   "metadata": {},
   "outputs": [
    {
     "name": "stdout",
     "output_type": "stream",
     "text": [
      "[1, 2, 2, 3, 4, 5]\n"
     ]
    }
   ],
   "source": [
    "#快速排序\n",
    "def quick_sort(data,left,right):\n",
    "    if left<right:\n",
    "        mid = partition(data,left,right)\n",
    "        quick_sort(data,left,mid-1)\n",
    "        quick_sort(data,mid+1,right)\n",
    "def partition(data,left,right):\n",
    "    tem = li[left]\n",
    "    while left<right:\n",
    "        while left<right and li(right)>=tem:\n",
    "            right -=1\n",
    "        li[left] = li[right]\n",
    "        while left<right and li(left)<=tem:\n",
    "            left +=1\n",
    "        li[right] = li[left]\n",
    "    li[left] = tem\n",
    "    return left\n",
    "li=[1,3,4,5,2,2]\n",
    "insert_sort(li)\n",
    "print(li)   "
   ]
  },
  {
   "cell_type": "code",
   "execution_count": 6,
   "id": "e9ead6b1",
   "metadata": {},
   "outputs": [
    {
     "name": "stdout",
     "output_type": "stream",
     "text": [
      "[1, 2, 2, 3, 4, 5]\n"
     ]
    }
   ],
   "source": [
    "def shift(li,low,high):\n",
    "    \"\"\"\n",
    "    li:数组\n",
    "    low:堆的根节点位置\n",
    "    high:堆最后一个元素位置\n",
    "    \"\"\"\n",
    "    i = low #指向根节点\n",
    "    j = 2 * i + 1 #j为左孩子\n",
    "    tem = li[low] #把堆顶存起来\n",
    "    while j < high: \n",
    "        if li[j+1] > li[j] and j+1 < high:\n",
    "            j = j + 1\n",
    "        if li[j] > tem:\n",
    "            li[i] = li[j]\n",
    "            i =j\n",
    "            j = 2 * i + 1\n",
    "        else :\n",
    "            li[i] = tem#把tem放在领导节点上\n",
    "            break\n",
    "    else :\n",
    "        li[i] = tem #把tem放在叶子节点上\n",
    "        \n",
    "def heap_sort(li):\n",
    "    n = len(li)\n",
    "    for i in range((n-2)//2,-1,-1):\n",
    "        # i 表示建堆的时候调整部分根的位置\n",
    "        shift(li,i,n-1)\n",
    "    #建堆完成\n",
    "    for i in range(n-1,-1,-1):\n",
    "        #i指向当前对最后一个元素\n",
    "        li[0],li[i]=li[i],li[0]\n",
    "        shift(li,0,i-1)\n",
    "li=[1,3,4,5,2,2]\n",
    "heap_sort(li)\n",
    "print(li)   "
   ]
  },
  {
   "cell_type": "code",
   "execution_count": null,
   "id": "89a92c6a",
   "metadata": {},
   "outputs": [],
   "source": []
  }
 ],
 "metadata": {
  "kernelspec": {
   "display_name": "Python 3 (ipykernel)",
   "language": "python",
   "name": "python3"
  },
  "language_info": {
   "codemirror_mode": {
    "name": "ipython",
    "version": 3
   },
   "file_extension": ".py",
   "mimetype": "text/x-python",
   "name": "python",
   "nbconvert_exporter": "python",
   "pygments_lexer": "ipython3",
   "version": "3.9.12"
  }
 },
 "nbformat": 4,
 "nbformat_minor": 5
}
